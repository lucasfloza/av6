{
 "cells": [
  {
   "cell_type": "markdown",
   "metadata": {},
   "source": [
    "### a) Mesmo operações simples podem ter tempos de execução diferentes dependendo da forma como são escritas ou implementadas. Neste exercício, você testará a rapidez de comandos simples repetidos muitas vezes, usando o módulo `time`.\n",
    "\n",
    "Escreva um código que calcule a soma de 1+2+3+⋯+N\n",
    " usando um laço `for`, com:\n",
    "\n",
    "```python\n",
    "soma = 0\n",
    "for i in range(1, N+1):\n",
    "    soma += i\n",
    "```\n",
    "\n",
    "Use o módulo `time` para medir o tempo de execução para diferentes valores de N=105,106,107\n",
    ".\n"
   ]
  },
  {
   "cell_type": "code",
   "execution_count": 1,
   "metadata": {},
   "outputs": [
    {
     "name": "stdout",
     "output_type": "stream",
     "text": [
      "N =   100000 → soma =   5000050000  |  tempo = 0.005774 s\n",
      "N =  1000000 → soma = 500000500000  |  tempo = 0.066330 s\n",
      "N = 10000000 → soma = 50000005000000  |  tempo = 0.517140 s\n"
     ]
    }
   ],
   "source": [
    "import time\n",
    "\n",
    "def soma_for(N):\n",
    "    \"\"\"\n",
    "    Calcula a soma 1 + 2 + ... + N usando um laço for.\n",
    "    \"\"\"\n",
    "    total = 0\n",
    "    for i in range(1, N + 1):\n",
    "        total += i\n",
    "    return total\n",
    "\n",
    "# defina os valores de N que quer testar\n",
    "valores_de_N = [10**5, 10**6, 10**7]\n",
    "\n",
    "for N in valores_de_N:\n",
    "    t0 = time.time()              # instante inicial\n",
    "    resultado = soma_for(N)       # executa o laço\n",
    "    t1 = time.time()              # instante final\n",
    "    dt = t1 - t0                  # diferença de tempo em segundos\n",
    "    print(f\"N = {N:8d} → soma = {resultado:12d}  |  tempo = {dt:.6f} s\")\n"
   ]
  },
  {
   "cell_type": "markdown",
   "metadata": {},
   "source": [
    "### b) Alternativa com `sum(range(...))`\n",
    "\n",
    "Agora calcule a mesma soma com:\n",
    "\n",
    "```python\n",
    "soma = sum(range(1, N+1))\n",
    "```\n",
    "\n",
    "Compare os tempos com a abordagem do laço `for`. Qual é mais rápida? Por quê?"
   ]
  },
  {
   "cell_type": "code",
   "execution_count": 2,
   "metadata": {},
   "outputs": [
    {
     "name": "stdout",
     "output_type": "stream",
     "text": [
      "N =   100000 → for: 0.011054 s | sum(range): 0.003249 s | resultado: 5000050000\n",
      "N =  1000000 → for: 0.065303 s | sum(range): 0.022553 s | resultado: 500000500000\n",
      "N = 10000000 → for: 0.522439 s | sum(range): 0.181823 s | resultado: 50000005000000\n"
     ]
    }
   ],
   "source": [
    "import time\n",
    "\n",
    "def soma_for(N):\n",
    "    total = 0\n",
    "    for i in range(1, N + 1):\n",
    "        total += i\n",
    "    return total\n",
    "\n",
    "def soma_sum(N):\n",
    "    return sum(range(1, N + 1))\n",
    "\n",
    "valores_de_N = [10**5, 10**6, 10**7]\n",
    "\n",
    "for N in valores_de_N:\n",
    "    # medir o laço for\n",
    "    t0 = time.time()\n",
    "    res_for = soma_for(N)\n",
    "    dt_for = time.time() - t0\n",
    "    \n",
    "    # medir sum(range)\n",
    "    t1 = time.time()\n",
    "    res_sum = soma_sum(N)\n",
    "    dt_sum = time.time() - t1\n",
    "    \n",
    "    print(f\"N = {N:8d} → for: {dt_for:.6f} s | sum(range): {dt_sum:.6f} s | resultado: {res_for}\")\n"
   ]
  },
  {
   "cell_type": "markdown",
   "metadata": {},
   "source": [
    "**Resposta:** Ao comparar as duas abordagens, observa-se que `sum(range(...))` é significativamente mais rápido do que o laço `for`, pois tanto a função built-in `sum` quanto o objeto `range` estão implementados em C na engine do Python, o que reduz dramaticamente o overhead de chamadas de função e de controle de iteração. Em contrapartida, o laço `for` executa em cada iteração operações adicionais em bytecode — como a obtenção do próximo valor do iterador, o incremento do índice e a atribuição — acarretando maior custo computacional."
   ]
  },
  {
   "cell_type": "markdown",
   "metadata": {},
   "source": [
    "----\n",
    "### c) Fórmula direta\n",
    "\n",
    "Use a fórmula matemática: `S=N(N+1)/2`\n",
    "\n",
    "Implemente-a e meça o tempo. Compare com os métodos anteriores. O que você observa?"
   ]
  },
  {
   "cell_type": "code",
   "execution_count": 3,
   "metadata": {},
   "outputs": [
    {
     "name": "stdout",
     "output_type": "stream",
     "text": [
      "N =   100000 → for: 0.011942 s | sum(range): 0.004203 s | fórmula: 0.000006 s | resultado: 5000050000\n",
      "N =  1000000 → for: 0.076692 s | sum(range): 0.026151 s | fórmula: 0.000005 s | resultado: 500000500000\n",
      "N = 10000000 → for: 0.528631 s | sum(range): 0.208725 s | fórmula: 0.000004 s | resultado: 50000005000000\n"
     ]
    }
   ],
   "source": [
    "import time\n",
    "\n",
    "def soma_for(N):\n",
    "    total = 0\n",
    "    for i in range(1, N + 1):\n",
    "        total += i\n",
    "    return total\n",
    "\n",
    "def soma_sum(N):\n",
    "    return sum(range(1, N + 1))\n",
    "\n",
    "def soma_formula(N):\n",
    "    return N * (N + 1) // 2\n",
    "\n",
    "valores_de_N = [10**5, 10**6, 10**7]\n",
    "\n",
    "for N in valores_de_N:\n",
    "    t0 = time.time()\n",
    "    res_for = soma_for(N)\n",
    "    dt_for = time.time() - t0\n",
    "\n",
    "    t1 = time.time()\n",
    "    res_sum = soma_sum(N)\n",
    "    dt_sum = time.time() - t1\n",
    "\n",
    "    t2 = time.time()\n",
    "    res_formula = soma_formula(N)\n",
    "    dt_formula = time.time() - t2\n",
    "\n",
    "    print(f\"N = {N:8d} → for: {dt_for:.6f} s | sum(range): {dt_sum:.6f} s | fórmula: {dt_formula:.6f} s | resultado: {res_formula}\")\n"
   ]
  },
  {
   "cell_type": "markdown",
   "metadata": {},
   "source": [
    "**Resposta**: Ao executar esse script, observa-se que o método baseado na expressão matemática `S=N(N+1)/2` é extremamente mais rápido do que tanto o laço `for` quanto a chamada `sum(range(...))`, exibindo um tempo de execução praticamente constante e virtualmente zero para os valores de 𝑁 testados. Isso ocorre porque a fórmula direta envolve apenas duas operações aritméticas em Python, enquanto `sum(range(...))` embora implementado em C ainda precisa gerar o iterador e acumular elementos, e o laço `for` executa milhares a milhões de iterações em bytecode, com overhead de gerenciamento de loop e atribuições sucessivas."
   ]
  },
  {
   "cell_type": "markdown",
   "metadata": {},
   "source": [
    "-------\n",
    "### d) (Exploração mais desafiadora)\n",
    "\n",
    "Implemente uma função que execute a mesma soma, mas armazenando todos os resultados parciais em uma lista:\n",
    "\n",
    "```python\n",
    "somas = []\n",
    "s = 0\n",
    "for i in range(1, N+1):\n",
    "    s += i\n",
    "    somas.append(s)\n",
    "```\n",
    "\n",
    "- Meça o tempo de execução para diferentes valores de N\n",
    ".\n",
    "- Compare com as outras abordagens.\n",
    "- Discuta: o que faz esse método ser mais lento? O uso de `append()` impacta o desempenho?"
   ]
  },
  {
   "cell_type": "code",
   "execution_count": 6,
   "metadata": {},
   "outputs": [
    {
     "name": "stdout",
     "output_type": "stream",
     "text": [
      "N =   100000 → for: 0.232983s | sum: 0.002030s | fórmula: 0.000003s | parcial: 0.006964s\n",
      "N =  1000000 → for: 0.062862s | sum: 0.021033s | fórmula: 0.000004s | parcial: 0.086418s\n",
      "N = 10000000 → for: 0.492164s | sum: 0.198409s | fórmula: 0.000003s | parcial: 0.954847s\n"
     ]
    }
   ],
   "source": [
    "import time\n",
    "\n",
    "def soma_for(N):\n",
    "    total = 0\n",
    "    for i in range(1, N + 1):\n",
    "        total += i\n",
    "    return total\n",
    "\n",
    "def soma_sum(N):\n",
    "    return sum(range(1, N + 1))\n",
    "\n",
    "def soma_formula(N):\n",
    "    return N * (N + 1) // 2\n",
    "\n",
    "def soma_partial(N):\n",
    "    somas = []\n",
    "    s = 0\n",
    "    for i in range(1, N + 1):\n",
    "        s += i\n",
    "        somas.append(s)\n",
    "    return somas\n",
    "\n",
    "valores_de_N = [10**5, 10**6, 10**7]\n",
    "\n",
    "for N in valores_de_N:\n",
    "    # laço for simples\n",
    "    t0 = time.time()\n",
    "    _ = soma_for(N)\n",
    "    dt_for = time.time() - t0\n",
    "\n",
    "    # sum(range)\n",
    "    t1 = time.time()\n",
    "    _ = soma_sum(N)\n",
    "    dt_sum = time.time() - t1\n",
    "\n",
    "    # fórmula direta\n",
    "    t2 = time.time()\n",
    "    _ = soma_formula(N)\n",
    "    dt_formula = time.time() - t2\n",
    "\n",
    "    # laço com append\n",
    "    t3 = time.time()\n",
    "    _ = soma_partial(N)\n",
    "    dt_partial = time.time() - t3\n",
    "\n",
    "    print(f\"N = {N:8d} → for: {dt_for:.6f}s | sum: {dt_sum:.6f}s | fórmula: {dt_formula:.6f}s | parcial: {dt_partial:.6f}s\")\n"
   ]
  },
  {
   "cell_type": "markdown",
   "metadata": {},
   "source": [
    "**Resposta**: A análise de desempenho mostra que a implementação baseada na fórmula `S=N(N+1)/2` opera em tempo constante, pois reduz todo o cálculo a duas operações aritméticas, independentemente do tamanho de \n",
    "𝑁. Em seguida, a abordagem `sum(range(1, N+1))` entrega complexidade linear, mas com sobrecarga mínima, pois tanto `range` quanto `sum` são executados em C, evitando bytecodes Python em cada iteração. O laço `for` puro também possui complexidade linear, porém sofre o custo de dispatch de bytecode a cada passo (leitura do iterador, incremento e atribuição). Por fim, a versão que acumula resultados parciais na lista é a mais lenta, pois além do controle de loop e das operações de atribuição, invoca repetidamente `append()`, o que impõe overhead de método e possível realocação de memória para expansão dinâmica da lista."
   ]
  }
 ],
 "metadata": {
  "kernelspec": {
   "display_name": "Python 3",
   "language": "python",
   "name": "python3"
  },
  "language_info": {
   "codemirror_mode": {
    "name": "ipython",
    "version": 3
   },
   "file_extension": ".py",
   "mimetype": "text/x-python",
   "name": "python",
   "nbconvert_exporter": "python",
   "pygments_lexer": "ipython3",
   "version": "3.13.5"
  }
 },
 "nbformat": 4,
 "nbformat_minor": 2
}
